{
 "cells": [
  {
   "cell_type": "markdown",
   "metadata": {},
   "source": [
    "###### Init package"
   ]
  },
  {
   "cell_type": "code",
   "execution_count": 1,
   "metadata": {},
   "outputs": [],
   "source": [
    "import matplotlib.pyplot as plt\n",
    "import numpy as np\n",
    "import time"
   ]
  },
  {
   "cell_type": "code",
   "execution_count": 2,
   "metadata": {},
   "outputs": [],
   "source": [
    "%matplotlib tk"
   ]
  },
  {
   "cell_type": "markdown",
   "metadata": {},
   "source": [
    "###### 1. Clear and plot"
   ]
  },
  {
   "cell_type": "code",
   "execution_count": 3,
   "metadata": {},
   "outputs": [
    {
     "name": "stdout",
     "output_type": "stream",
     "text": [
      "Number of frames per second: 8.2\n"
     ]
    }
   ],
   "source": [
    "fig, ax = plt.subplots(figsize=(12,6))\n",
    "\n",
    "num_plots  = 0\n",
    "time_start = time.time()\n",
    "while time.time()-time_start < 100:\n",
    "    ax.clear()\n",
    "    ax.plot(np.random.randn(100))\n",
    "    plt.pause(0.001)  \n",
    "    num_plots += 1\n",
    "    \n",
    "print('Number of frames per second: ' + str(num_plots/100))"
   ]
  },
  {
   "cell_type": "markdown",
   "metadata": {},
   "source": [
    "###### 2. Edit line and update"
   ]
  },
  {
   "cell_type": "code",
   "execution_count": 4,
   "metadata": {},
   "outputs": [
    {
     "name": "stdout",
     "output_type": "stream",
     "text": [
      "Number of frames per second: 13.65\n"
     ]
    }
   ],
   "source": [
    "fig, ax = plt.subplots(figsize=(12,6))\n",
    "line, = ax.plot(np.random.randn(100))\n",
    "\n",
    "num_plots  = 0\n",
    "time_start = time.time()\n",
    "while time.time()-time_start < 100:\n",
    "    line.set_ydata(np.random.randn(100))\n",
    "    plt.draw()\n",
    "    plt.pause(1e-10)\n",
    "    num_plots += 1\n",
    "    \n",
    "print('Number of frames per second: ' + str(num_plots/100))"
   ]
  },
  {
   "cell_type": "markdown",
   "metadata": {},
   "source": [
    "###### 3. Edit line and selective update"
   ]
  },
  {
   "cell_type": "code",
   "execution_count": 5,
   "metadata": {},
   "outputs": [
    {
     "name": "stdout",
     "output_type": "stream",
     "text": [
      "Number of frames per second: 14.68\n"
     ]
    }
   ],
   "source": [
    "fig, ax = plt.subplots(figsize=(12,6))\n",
    "line, = ax.plot(np.random.randn(100))\n",
    "fig.canvas.draw()\n",
    "\n",
    "num_plots  = 0\n",
    "time_start = time.time()\n",
    "while time.time()-time_start < 100:\n",
    "    line.set_ydata(np.random.randn(100))\n",
    "    fig.canvas.restore_region(\n",
    "        fig.canvas.copy_from_bbox(ax.bbox))\n",
    "    ax.draw_artist(ax.patch)\n",
    "    ax.draw_artist(line)\n",
    "    fig.canvas.draw_idle()\n",
    "    fig.canvas.flush_events()\n",
    "    num_plots += 1\n",
    "print('Number of frames per second: ' + str(num_plots/100))\n"
   ]
  },
  {
   "cell_type": "code",
   "execution_count": 6,
   "metadata": {},
   "outputs": [
    {
     "data": {
      "text/html": [
       "<style>.container {font-size:10pt; width:44% !important; }</style>"
      ],
      "text/plain": [
       "<IPython.core.display.HTML object>"
      ]
     },
     "metadata": {},
     "output_type": "display_data"
    }
   ],
   "source": [
    "from IPython.core.display import display, HTML\n",
    "display(HTML(\"<style>.container {font-size:10pt; width:44% !important; }</style>\"))"
   ]
  },
  {
   "cell_type": "code",
   "execution_count": null,
   "metadata": {},
   "outputs": [],
   "source": []
  },
  {
   "cell_type": "code",
   "execution_count": null,
   "metadata": {},
   "outputs": [],
   "source": []
  }
 ],
 "metadata": {
  "kernelspec": {
   "display_name": "Python 3",
   "language": "python",
   "name": "python3"
  },
  "language_info": {
   "codemirror_mode": {
    "name": "ipython",
    "version": 3
   },
   "file_extension": ".py",
   "mimetype": "text/x-python",
   "name": "python",
   "nbconvert_exporter": "python",
   "pygments_lexer": "ipython3",
   "version": "3.4.4"
  }
 },
 "nbformat": 4,
 "nbformat_minor": 2
}
